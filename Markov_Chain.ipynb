{
  "nbformat": 4,
  "nbformat_minor": 0,
  "metadata": {
    "colab": {
      "name": "Markov_Chain.ipynb",
      "provenance": [],
      "collapsed_sections": [],
      "include_colab_link": true
    },
    "kernelspec": {
      "name": "python3",
      "display_name": "Python 3"
    },
    "language_info": {
      "name": "python"
    }
  },
  "cells": [
    {
      "cell_type": "markdown",
      "metadata": {
        "id": "view-in-github",
        "colab_type": "text"
      },
      "source": [
        "<a href=\"https://colab.research.google.com/github/Haruka-Miyoshi/Digital-board-writing-using-OCR-technology/blob/main/Markov_Chain.ipynb\" target=\"_parent\"><img src=\"https://colab.research.google.com/assets/colab-badge.svg\" alt=\"Open In Colab\"/></a>"
      ]
    },
    {
      "cell_type": "markdown",
      "source": [
        "**マルコフ連鎖**\n",
        "$$P_{ij} = P(X_{m+1} = j|X_{m} = i)$$"
      ],
      "metadata": {
        "id": "-_AY0keb9csD"
      }
    },
    {
      "cell_type": "markdown",
      "source": [
        "**マルコフ連鎖の例**\n",
        "\n",
        "\"one edureka two edureka hail edureka happy edureka\"-(1)\n",
        "\n",
        "上記の文は意味がわからない文です.\n",
        "\n",
        "Keys = {one, edureka, two, hail, happy} ⇒ 単語\n",
        "\n",
        "Token = {1, 4, 1, 1, 1} ⇒ 周波数"
      ],
      "metadata": {
        "id": "348F5OxM_7zj"
      }
    },
    {
      "cell_type": "markdown",
      "source": [
        "このことにより、重み付き確率(加重分布)を考える<br>\n",
        "(1)の文章は8単語あり、\"one\"は8単語中1個なので確率は1/8になる.従って確率Pは\n",
        "\n",
        "P = {1/8, 1/2, 1/8, 1/8, 1/8}"
      ],
      "metadata": {
        "id": "VBP9_BfRCr3X"
      }
    },
    {
      "cell_type": "markdown",
      "source": [
        "**状態遷移例**"
      ],
      "metadata": {
        "id": "BbkRRaorinGe"
      }
    },
    {
      "cell_type": "markdown",
      "source": [
        "![状態遷移例 (2).png](data:image/png;base64,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)"
      ],
      "metadata": {
        "id": "bq4Nlk5ZnW_2"
      }
    },
    {
      "cell_type": "markdown",
      "source": [
        "上の例では状態が4つあり、S0が開始地点で目標地点がS4となっている."
      ],
      "metadata": {
        "id": "5C6n5Epki9j5"
      }
    },
    {
      "cell_type": "markdown",
      "source": [
        "**状態遷移の実装**"
      ],
      "metadata": {
        "id": "mrRcdZB8jFBF"
      }
    },
    {
      "cell_type": "code",
      "source": [
        "# モジュールのインポート\n",
        "import numpy as np\n",
        "\n",
        "# 状態遷移行列P\n",
        "P = [\n",
        "     [0, 0.4, 0.6, 0, 0], # S0\n",
        "     [0.8, 0.2, 0, 0, 0], # S1\n",
        "     [0, 0, 0, 0.2, 0.8], # S2\n",
        "     [0.2, 0, 0, 0, 0.8], # S3\n",
        "     [0, 0, 0, 0, 0] # S4\n",
        "     ]\n",
        "\n",
        "# 状態S 集合\n",
        "S = [0,1,2,3,4]\n",
        "\n",
        "# 初期start地点を0と設定\n",
        "s = 0"
      ],
      "metadata": {
        "id": "jOt8B4DU7sGi"
      },
      "execution_count": null,
      "outputs": []
    },
    {
      "cell_type": "code",
      "source": [
        "# 1つ状態を遷移させる\n",
        "def StateOneTransition(s):\n",
        "   s = np.random.choice(S, size=None, replace=True, p= P[s])\n",
        "   if s == 4: # 状態がs4のとき、ゴールとする\n",
        "       return \"Goal\"\n",
        "   return s"
      ],
      "metadata": {
        "id": "wZyTSpjJcPE9"
      },
      "execution_count": null,
      "outputs": []
    },
    {
      "cell_type": "markdown",
      "source": [
        "**一回目の遷移**"
      ],
      "metadata": {
        "id": "qFW0JtQcmLjs"
      }
    },
    {
      "cell_type": "code",
      "source": [
        "s = StateOneTransition(s)\n",
        "\n",
        "print(s)"
      ],
      "metadata": {
        "colab": {
          "base_uri": "https://localhost:8080/"
        },
        "id": "QyzYUqxOfhue",
        "outputId": "d75b8048-700d-40f4-bfcd-2617d0a93580"
      },
      "execution_count": null,
      "outputs": [
        {
          "output_type": "stream",
          "name": "stdout",
          "text": [
            "2\n"
          ]
        }
      ]
    },
    {
      "cell_type": "markdown",
      "source": [
        "**二回目の遷移**"
      ],
      "metadata": {
        "id": "C0_twwmjmSd0"
      }
    },
    {
      "cell_type": "code",
      "source": [
        "s = StateOneTransition(s)\n",
        "\n",
        "print(s)"
      ],
      "metadata": {
        "colab": {
          "base_uri": "https://localhost:8080/"
        },
        "id": "t3RnFTkllvvu",
        "outputId": "f1888aa8-2c0d-4d3d-9281-22fbd28ffb3e"
      },
      "execution_count": null,
      "outputs": [
        {
          "output_type": "stream",
          "name": "stdout",
          "text": [
            "Goal\n"
          ]
        }
      ]
    },
    {
      "cell_type": "markdown",
      "source": [
        "結果、S0 -> S2 -> S4という順に状態を遷移することができた<br>\n",
        "**今回は運よく最短で解を求められたが本来はもっとかかるだろう.なので、再び実行したい場合は、ln[95]をコピーして実行すると良い**"
      ],
      "metadata": {
        "id": "YApbUldjmWTU"
      }
    },
    {
      "cell_type": "markdown",
      "source": [
        "また、今回はS4をgoalとするような状態遷移図を設計しているため、goalを変えてみたい場合は工夫が必要である."
      ],
      "metadata": {
        "id": "E3b4W50vmfT2"
      }
    }
  ]
}